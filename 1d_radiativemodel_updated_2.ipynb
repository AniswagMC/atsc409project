{
 "cells": [
  {
   "cell_type": "code",
   "execution_count": 1,
   "id": "c8a494f1",
   "metadata": {},
   "outputs": [],
   "source": [
    "import numpy as np\n",
    "import matplotlib.pyplot as plt\n",
    "from math import pi\n",
    "from math import sin\n",
    "from math import cos"
   ]
  },
  {
   "cell_type": "code",
   "execution_count": 2,
   "id": "a9679b97",
   "metadata": {},
   "outputs": [
    {
     "name": "stdout",
     "output_type": "stream",
     "text": [
      "[0.00760336 0.02257906 0.0368687  0.05003811 0.06168713 0.07146182\n",
      " 0.07906518 0.08426619 0.0869068  0.0869068  0.08426619 0.07906518\n",
      " 0.07146182 0.06168713 0.05003811 0.0368687  0.02257906 0.00760336]\n"
     ]
    }
   ],
   "source": [
    "#setup geometry\n",
    "\n",
    "#assume the earth is a sphere, not an oblate spheroid\n",
    "\n",
    "num_lat_zones = 18\n",
    "zonal_width = 90/num_lat_zones\n",
    "lats = np.linspace(-85,85,18)\n",
    "lats_rad = lats*(pi/180)\n",
    "delta_rad = (pi/2)/num_lat_zones/2\n",
    "lats_frac=np.zeros(18)\n",
    "\n",
    "for i in range(18):\n",
    "    lats_frac[i] = sin(lats_rad[i]+delta_rad) - sin(lats_rad[i]-delta_rad)\n",
    "\n",
    "print(lats_frac)\n",
    "\n",
    "#geometry successfully setup"
   ]
  },
  {
   "cell_type": "code",
   "execution_count": 3,
   "id": "89afa433",
   "metadata": {},
   "outputs": [],
   "source": [
    "#setup insolation\n",
    "#constants needed for insolation setup\n",
    "\n",
    "solar_constant=1370\n",
    "max_tilt=23.5\n",
    "days_in_year=365\n",
    "hours_in_day=24\n",
    "zonal_degrees=360\n",
    "total_solar=0.0"
   ]
  },
  {
   "cell_type": "code",
   "execution_count": 4,
   "id": "aea852aa",
   "metadata": {},
   "outputs": [
    {
     "name": "stdout",
     "output_type": "stream",
     "text": [
      "436.0734741032062\n"
     ]
    }
   ],
   "source": [
    "#calculate effective solar constant (considering sun angle and day/night cycle)\n",
    "\n",
    "for hour in range(hours_in_day):\n",
    "    noon_angle=zonal_degrees*(hour/hours_in_day)\n",
    "    for longitude in range(zonal_degrees):\n",
    "        sun_angle=longitude-noon_angle\n",
    "        total_solar=total_solar+solar_constant*max(0,cos((pi/180)*sun_angle))\n",
    "\n",
    "solar_constant=total_solar/(hours_in_day*zonal_degrees)\n",
    "print(solar_constant)\n",
    "#solar constant reasonable"
   ]
  },
  {
   "cell_type": "code",
   "execution_count": 5,
   "id": "62c4c9a0",
   "metadata": {},
   "outputs": [
    {
     "name": "stdout",
     "output_type": "stream",
     "text": [
      "[ 31.09533615  91.16405345 148.49321056 201.34089005 248.10134192\n",
      " 287.3537735  317.90551952 338.82828064 349.48632935 349.55582623\n",
      " 339.03465966 318.24250995 287.81113606 248.66517987 201.99407147\n",
      " 149.21588887 101.75002582  64.08835228]\n"
     ]
    }
   ],
   "source": [
    "#compute average insolation for each latitude band\n",
    "\n",
    "insolation=np.zeros(num_lat_zones)\n",
    "\n",
    "for day in range(days_in_year):\n",
    "    tilt=max_tilt*cos(2.0*pi*day/(days_in_year+1))\n",
    "    for j in range(num_lat_zones):\n",
    "        zenith=min(lats[j]+tilt,90.0)\n",
    "        insolation[j]=insolation[j]+cos(zenith*pi/180)\n",
    "\n",
    "insol=solar_constant*insolation/days_in_year\n",
    "insolation=insolation\n",
    "\n",
    "avg_insolation=(sum(lats_frac,insolation))\n",
    "print(avg_insolation)\n",
    "\n",
    "#insolation values for each latitude band are again reasonable"
   ]
  },
  {
   "cell_type": "code",
   "execution_count": 6,
   "id": "fa29cc29",
   "metadata": {},
   "outputs": [],
   "source": [
    "#set up parameters for solve_temp\n",
    "\n",
    "\n",
    "albedo_ice=0.60\n",
    "albedo_land=0.30\n",
    "temp_critical=-10"
   ]
  },
  {
   "cell_type": "code",
   "execution_count": 7,
   "id": "1a772cf6",
   "metadata": {},
   "outputs": [
    {
     "name": "stdout",
     "output_type": "stream",
     "text": [
      "[-32.48406697 -27.45121136 -17.13347467  -5.89935507   5.02065799\n",
      "  17.31220992  27.88812399  34.45050657  35.51740405  36.23692181\n",
      "  34.31548546  28.2846667   18.26575079   5.66957658  -6.29434502\n",
      " -20.46612995 -40.16875139 -49.45592626]\n"
     ]
    }
   ],
   "source": [
    "def solve_temp(solar_mult):\n",
    "    insol=343\n",
    "    insolation=np.array([343*0.500,343*0.531,343*0.624,343*0.770,343*0.892,343*1.021,343*1.120,343*1.189,343*1.219,343*1.219,\n",
    "                        343*1.189,343*1.120,343*1.021,343*0.892,343*0.770,343*0.624,343*0.531,343*0.500])\n",
    "    step_num = 1                 \n",
    "    max_temp_diff = 1.0E6       \n",
    "    tol_temp_diff = 0.05         \n",
    "    max_steps = 100              \n",
    "    F=3.80\n",
    "    A=204\n",
    "    B=2.17\n",
    "    Ce=2.08e8\n",
    "    temp=np.array([-16.9,-12.3,-5.1,2.2,8.8,16.2,22.9,26.1,26.4,26.1,24.6,21.4,16.5,9.9,2.9,-6.9,-29.5,-42.3])\n",
    "    albedo=np.array([0.589,0.544,0.452,0.407,0.357,0.309,0.272,0.248,0.254,0.241,0.236,0.251,0.296,0.358,0.426,0.513,0.602,0.617])\n",
    "    while step_num < max_steps:\n",
    "        temp_old=temp\n",
    "        step_num=step_num+1\n",
    "    temp_avg=sum(lats_frac,temp)\n",
    "    temp=(insolation*(1-albedo)+F*temp_avg-A)/(B+F)\n",
    "    max_temp_diff=max(abs(temp_old-temp))\n",
    "    return temp\n",
    "\n",
    "temptest=solve_temp(1)\n",
    "print(temptest)"
   ]
  },
  {
   "cell_type": "code",
   "execution_count": 8,
   "id": "28c68aef",
   "metadata": {},
   "outputs": [
    {
     "name": "stdout",
     "output_type": "stream",
     "text": [
      "12.620405470903854\n"
     ]
    }
   ],
   "source": [
    "#now, set up simple differential equation\n",
    "tempavg=15\n",
    "albedo=np.array([0.589,0.544,0.452,0.407,0.357,0.309,0.272,0.248,0.254,0.241,0.236,0.251,0.296,0.358,0.426,0.513,0.602,0.617])\n",
    "insol=np.array([343*0.500,343*0.531,343*0.624,343*0.770,343*0.892,343*1.021,343*1.120,343*1.189,343*1.219,343*1.219,\n",
    "                    343*1.189,343*1.120,343*1.021,343*0.892,343*0.770,343*0.624,343*0.531,343*0.500])\n",
    "insolation=insol*(31536000**3)\n",
    "temp=np.array([-16.9,-12.3,-5.1,2.2,8.8,16.2,22.9,26.1,26.4,26.1,24.6,21.4,16.5,9.9,2.9,-6.9,-29.5,-42.3])\n",
    "F=3.80*(31536000**2)\n",
    "A=204*(31536000**3)\n",
    "B=2.17*(31536000**3)\n",
    "Ce=2.08e8*(31536000**2)\n",
    "time=np.linspace(0,100,18)\n",
    "time=np.zeros(80)\n",
    "temp=np.array([-16.9,-12.3,-5.1,2.2,8.8,16.2,22.9,26.1,26.4,26.1,24.6,21.4,16.5,9.9,2.9,-6.9,-29.5,-42.3])\n",
    "temptime=np.zeros(100)\n",
    "tchangeavg=np.zeros(18)\n",
    "def solve_temp_ode(x,y):\n",
    "    i=0\n",
    "    tc=np.zeros(18)\n",
    "    while i<18:\n",
    "        tc = ((insolation*(1 - albedo)) - (A + B*temp[i]+F*(temp[i]-tempavg)))/(Ce)\n",
    "        tchange=(sum(tc)/len(tc))\n",
    "        i=i+1\n",
    "    return tchange\n",
    "\n",
    "tempodetest=solve_temp_ode(time,tempavg)\n",
    "print(tempodetest)"
   ]
  },
  {
   "cell_type": "code",
   "execution_count": null,
   "id": "3f07f892",
   "metadata": {},
   "outputs": [],
   "source": [
    "def rk4ODEinter41(coeff, y, theTime):\n",
    "    k1 = coeff.dt * derivsinter41(coeff,y,theTime)\n",
    "    k2 = coeff.dt * derivsinter41(coeff,y + (0.5 * k1),theTime+0.5*coeff.dt)\n",
    "    k3 = coeff.dt * derivsinter41(coeff,y + (0.5 * k2),theTime+0.5*coeff.dt)\n",
    "    k4 = coeff.dt * derivsinter41(coeff,y +  k3,theTime+coeff.dt)\n",
    "    y = y + (1.0/6.0) * (k1 + (2.0 * k2) + (2.0 * k3) + k4)\n",
    "    return y"
   ]
  },
  {
   "cell_type": "code",
   "execution_count": 9,
   "id": "748ccf24",
   "metadata": {},
   "outputs": [],
   "source": [
    "# Runge-Kutta 4th order\n",
    "def rk4(f, x0, y0, x1, n):\n",
    "    h = (x1 - x0) / n\n",
    "    x = np.arange(x0, x1, h)\n",
    "    y = np.zeros((n + 1))\n",
    "    y[0] = y0\n",
    "    for i in range(n):\n",
    "        k1 = h * f(x[i],y[i])\n",
    "        k2 = h * f(x[i] + h / 2, y[i] + k1 / 2)\n",
    "        k3 = h * f(x[i] + h / 2, y[i] + k2 / 2)\n",
    "        k4 = h * f(x[i] + h, y[i] + k3)\n",
    "        y[i+1] = y[i] + (k1 + 2 * k2 + 2 * k3 + k4) / 6\n",
    "    return x, y"
   ]
  },
  {
   "cell_type": "code",
   "execution_count": 10,
   "id": "5b37f5b7",
   "metadata": {},
   "outputs": [
    {
     "name": "stdout",
     "output_type": "stream",
     "text": [
      "(array([2020., 2021., 2022., 2023., 2024., 2025., 2026., 2027., 2028.,\n",
      "       2029., 2030., 2031., 2032., 2033., 2034., 2035., 2036., 2037.,\n",
      "       2038., 2039., 2040., 2041., 2042., 2043., 2044., 2045., 2046.,\n",
      "       2047., 2048., 2049., 2050., 2051., 2052., 2053., 2054., 2055.,\n",
      "       2056., 2057., 2058., 2059., 2060., 2061., 2062., 2063., 2064.,\n",
      "       2065., 2066., 2067., 2068., 2069., 2070., 2071., 2072., 2073.,\n",
      "       2074., 2075., 2076., 2077., 2078., 2079., 2080., 2081., 2082.,\n",
      "       2083., 2084., 2085., 2086., 2087., 2088., 2089., 2090., 2091.,\n",
      "       2092., 2093., 2094., 2095., 2096., 2097., 2098., 2099.]), array([  15.        ,   27.62040547,   40.24081094,   52.86121641,\n",
      "         65.48162188,   78.10202735,   90.72243283,  103.3428383 ,\n",
      "        115.96324377,  128.58364924,  141.20405471,  153.82446018,\n",
      "        166.44486565,  179.06527112,  191.68567659,  204.30608206,\n",
      "        216.92648753,  229.54689301,  242.16729848,  254.78770395,\n",
      "        267.40810942,  280.02851489,  292.64892036,  305.26932583,\n",
      "        317.8897313 ,  330.51013677,  343.13054224,  355.75094771,\n",
      "        368.37135319,  380.99175866,  393.61216413,  406.2325696 ,\n",
      "        418.85297507,  431.47338054,  444.09378601,  456.71419148,\n",
      "        469.33459695,  481.95500242,  494.57540789,  507.19581337,\n",
      "        519.81621884,  532.43662431,  545.05702978,  557.67743525,\n",
      "        570.29784072,  582.91824619,  595.53865166,  608.15905713,\n",
      "        620.7794626 ,  633.39986807,  646.02027355,  658.64067902,\n",
      "        671.26108449,  683.88148996,  696.50189543,  709.1223009 ,\n",
      "        721.74270637,  734.36311184,  746.98351731,  759.60392278,\n",
      "        772.22432825,  784.84473373,  797.4651392 ,  810.08554467,\n",
      "        822.70595014,  835.32635561,  847.94676108,  860.56716655,\n",
      "        873.18757202,  885.80797749,  898.42838296,  911.04878843,\n",
      "        923.66919391,  936.28959938,  948.91000485,  961.53041032,\n",
      "        974.15081579,  986.77122126,  999.39162673, 1012.0120322 ,\n",
      "       1024.63243767]))\n",
      "[  15.           27.62040547   40.24081094   52.86121641   65.48162188\n",
      "   78.10202735   90.72243283  103.3428383   115.96324377  128.58364924\n",
      "  141.20405471  153.82446018  166.44486565  179.06527112  191.68567659\n",
      "  204.30608206  216.92648753  229.54689301  242.16729848  254.78770395\n",
      "  267.40810942  280.02851489  292.64892036  305.26932583  317.8897313\n",
      "  330.51013677  343.13054224  355.75094771  368.37135319  380.99175866\n",
      "  393.61216413  406.2325696   418.85297507  431.47338054  444.09378601\n",
      "  456.71419148  469.33459695  481.95500242  494.57540789  507.19581337\n",
      "  519.81621884  532.43662431  545.05702978  557.67743525  570.29784072\n",
      "  582.91824619  595.53865166  608.15905713  620.7794626   633.39986807\n",
      "  646.02027355  658.64067902  671.26108449  683.88148996  696.50189543\n",
      "  709.1223009   721.74270637  734.36311184  746.98351731  759.60392278\n",
      "  772.22432825  784.84473373  797.4651392   810.08554467  822.70595014\n",
      "  835.32635561  847.94676108  860.56716655  873.18757202  885.80797749\n",
      "  898.42838296  911.04878843  923.66919391  936.28959938  948.91000485\n",
      "  961.53041032  974.15081579  986.77122126  999.39162673 1012.0120322\n",
      " 1024.63243767]\n"
     ]
    }
   ],
   "source": [
    "time=np.linspace(2020,2100,80)\n",
    "temp_rk4=rk4((solve_temp_ode),2020,15,2100,80)\n",
    "print(temp_rk4)\n",
    "time1=temp_rk4[0]\n",
    "temp1=temp_rk4[1]\n",
    "temp2=temp1[0:80]\n",
    "for i in range(len(temp2)-1):\n",
    "    temp3=temp2[i+1]-temp2[i]\n",
    "print(temp1)"
   ]
  },
  {
   "cell_type": "code",
   "execution_count": 11,
   "id": "35027202",
   "metadata": {},
   "outputs": [
    {
     "data": {
      "text/plain": [
       "[<matplotlib.lines.Line2D at 0x2551e2e2ee0>]"
      ]
     },
     "execution_count": 11,
     "metadata": {},
     "output_type": "execute_result"
    },
    {
     "data": {
      "image/png": "[encoded data removed]",
      "text/plain": [
       "<Figure size 432x288 with 1 Axes>"
      ]
     },
     "metadata": {
      "needs_background": "light"
     },
     "output_type": "display_data"
    }
   ],
   "source": [
    "plt.plot(time1,temp2)"
   ]
  },
  {
   "cell_type": "code",
   "execution_count": 12,
   "id": "bfec0af8",
   "metadata": {},
   "outputs": [],
   "source": [
    "temp=np.zeros(num_lat_zones)\n",
    "temp_avg=np.zeros(num_lat_zones)\n",
    "for j in range(num_lat_zones):\n",
    "    temp[j]=-60.0\n",
    "\n",
    "solar_mult=np.zeros(140)\n",
    "#for k in range(140):\n",
    "#    solar_mult[k]=k/100\n",
    "#    temp_avg=solve_temp(solar_mult);\n",
    "#    k=k+1\n",
    "    \n",
    "#plt.plot(solve_temp(2))\n",
    "#plt.plot(solar_mult,temp_avg)\n",
    "#plt.title('Average Temperature versus Solar Multiplier')\n",
    "#xlabel('Solar Multiplier')\n",
    "#ylabel('Average Temperature')\n"
   ]
  },
  {
   "cell_type": "code",
   "execution_count": 13,
   "id": "c020f9d5",
   "metadata": {},
   "outputs": [],
   "source": [
    "#for k in range(60:140):\n",
    "#    solar_mult[k]=k/100;\n",
    "#    temp_avg[k]=solve_temp(solar_mult[k])\n",
    "    \n",
    "#plt.plot(solar_mult,temp_avg)\n",
    "#plt.title('Average Temperature versus Solar Multiplier')\n",
    "#xlabel('Solar Multiplier')\n",
    "#ylabel('Average Temperature')"
   ]
  },
  {
   "cell_type": "code",
   "execution_count": null,
   "id": "6c281f2c",
   "metadata": {},
   "outputs": [],
   "source": []
  },
  {
   "cell_type": "code",
   "execution_count": null,
   "id": "f6b60fad",
   "metadata": {},
   "outputs": [],
   "source": []
  }
 ],
 "metadata": {
  "kernelspec": {
   "display_name": "Python 3 (ipykernel)",
   "language": "python",
   "name": "python3"
  },
  "language_info": {
   "codemirror_mode": {
    "name": "ipython",
    "version": 3
   },
   "file_extension": ".py",
   "mimetype": "text/x-python",
   "name": "python",
   "nbconvert_exporter": "python",
   "pygments_lexer": "ipython3",
   "version": "3.9.7"
  }
 },
 "nbformat": 4,
 "nbformat_minor": 5
}
