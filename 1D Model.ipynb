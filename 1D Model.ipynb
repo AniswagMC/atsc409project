{
 "cells": [
  {
   "cell_type": "markdown",
   "metadata": {},
   "source": [
    "<h1 style=\"text-align: center;\">\n",
    "    ATSC 409 Project: 1D Radiative Model\n",
    "</h1>\n",
    "<h5 style=\"text-align: center;\">\n",
    "    Anirudh Duggal, Clinton Macadam, and Hanrui Duan\n",
    "</h5>\n",
    "<!-- # ATSC 409 Project: 1D Radiative Model\n",
    "##### Anirudh Duggal, Clinton Macadam, and Hanrui Duan -->"
   ]
  },
  {
   "cell_type": "code",
   "execution_count": 9,
   "metadata": {},
   "outputs": [],
   "source": [
    "import numpy as np\n",
    "import matplotlib.pyplot as plt"
   ]
  },
  {
   "cell_type": "code",
   "execution_count": 10,
   "metadata": {},
   "outputs": [],
   "source": [
    "# Runge-Kutta 4th order\n",
    "def rk4(f, x0, y0, x1, n):\n",
    "    h = (x1 - x0) / n\n",
    "    x = np.arange(x0, x1, h)\n",
    "    y = np.zeros((n + 1))\n",
    "    y[0] = y0\n",
    "    for i in range(n):\n",
    "        k1 = h * f(x[i], y[i])\n",
    "        k2 = h * f(x[i] + h / 2, y[i] + k1 / 2)\n",
    "        k3 = h * f(x[i] + h / 2, y[i] + k2 / 2)\n",
    "        k4 = h * f(x[i] + h, y[i] + k3)\n",
    "        y[i + 1] = y[i] + (k1 + 2 * k2 + 2 * k3 + k4) / 6\n",
    "    return x, y"
   ]
  },
  {
   "cell_type": "markdown",
   "metadata": {},
   "source": [
    "<h4 style=\"text-align: center;\">\n",
    "    Constants\n",
    "</h4>"
   ]
  },
  {
   "cell_type": "code",
   "execution_count": 11,
   "metadata": {},
   "outputs": [],
   "source": [
    "Ce = 2.08e-5  # J/m^2 * C\n",
    "F = 3.80      # W/(m^2 * C) \n",
    "A = 204       # W m^-2 \n",
    "B = 2.17      # W m^-2 C^-1\n",
    "\n",
    "\n",
    "# Global Variables\n",
    "num_lat_zones = None\n",
    "lats = None\n",
    "lats_frac = None\n",
    "insolation = None\n",
    "albedo = None\n",
    "temp = None\n"
   ]
  },
  {
   "cell_type": "code",
   "execution_count": 37,
   "metadata": {},
   "outputs": [],
   "source": [
    "# Adapted from geometric_setup.m\n",
    "def geometry_setup():\n",
    "    num_lat_zones = 10\n",
    "    zonal_width = 90 / num_lat_zones\n",
    "\n",
    "    # midpoint of each zone\n",
    "    lats = np.arange(zonal_width / 2, 90 - zonal_width / 2, zonal_width)\n",
    "\n",
    "    lats_rad = lats * np.pi / 180\n",
    "    delta_rad = (np.pi / 2) / (num_lat_zones / 2)\n",
    "    lats_frac = np.sin(lats_rad + delta_rad) - np.sin(lats_rad - delta_rad)"
   ]
  },
  {
   "cell_type": "code",
   "execution_count": 38,
   "metadata": {},
   "outputs": [],
   "source": [
    "# Adapted from insolation_setup.m\n",
    "\n",
    "# adjustable parameters\n",
    "\n",
    "solar_constant = 1370              # solar constant\n",
    "max_tilt = 23.5                    # tilt of earth in degrees\n",
    "days_in_year = 365               # averaging interval and period for insolation\n",
    "hours_in_day = 24\n",
    "zonal_degrees = 360\n"
   ]
  },
  {
   "cell_type": "code",
   "execution_count": 39,
   "metadata": {},
   "outputs": [],
   "source": [
    "solar_constant = 1370              # solar constant\n",
    "max_tilt = 23.5                    # tilt of earth in degrees\n",
    "days_in_year = 365               # averaging interval and period for insolation\n",
    "hours_in_day = 24\n",
    "zonal_degrees = 360\n",
    "\n",
    "def insolation_setup():\n",
    "    total_solar = 0.0\n",
    "\n",
    "    for hour in range(hours_in_day):\n",
    "        noon_angle = zonal_degrees * hour / hours_in_day\n",
    "        \n",
    "        for longitude in range(zonal_degrees):\n",
    "            sun_angle = longitude - noon_angle\n",
    "            total_solar = total_solar + solar_constant * max(0.0, np.cos(np.pi / 180 * sun_angle))\n",
    "    \n",
    "    solar_constant = total_solar / (hours_in_day * zonal_degrees)\n",
    "\n",
    "    insolation = np.zeros(num_lat_zones)\n",
    "\n",
    "    for day in range(days_in_year):\n",
    "        tilt = max_tilt * np.cos(2.0 * np.pi * day / days_in_year)\n",
    "\n",
    "        for j in range(num_lat_zones):\n",
    "            zenith = min(lats[j] + tilt, 90.0)\n",
    "            insolation[j] += np.cos(zenith * np.pi/180)\n",
    "\n",
    "    insolation = solar_constant * insolation / days_in_year\n",
    "    return insolation"
   ]
  },
  {
   "cell_type": "code",
   "execution_count": 40,
   "metadata": {},
   "outputs": [],
   "source": [
    "# Adapted from solve_temp.m\n",
    "\n",
    "# adjustable parameters\n",
    "F = 3.80                   # transport coefficient (in W/(m^2*degree C))\n",
    "A = 204                    # radiative-heat-loss coefficient\n",
    "B = 2.17                   # radiative-heat-loss coefficient\n",
    "albedo_ice = 0.60          # albedo of ice\n",
    "albedo_land = 0.30         # albedo of land\n",
    "temp_critical = -10        # critical temperature (all ice)\n",
    "\n",
    "step_num = 1                 # loop counter\n",
    "max_temp_diff = 1.0E6       # using large value insures loop executes once\n",
    "tol_temp_diff = 0.05         # max temp change before ending iteration\n",
    "max_steps = 100              # max steps during iteration before stopping"
   ]
  },
  {
   "cell_type": "code",
   "execution_count": 41,
   "metadata": {},
   "outputs": [],
   "source": [
    "def solveTemp(solar_mult):\n",
    "    while max_temp_diff > tol_temp_diff and step_num < max_steps:\n",
    "        temp_old = temp\n",
    "        step_num += 1\n",
    "\n",
    "        # albedo is either land albedo (T > temp_critical) or ice (T < temp_critical)\n",
    "\n",
    "        for j in range(num_lat_zones):\n",
    "            if temp_old[j] > temp_critical:\n",
    "                albedo[j] = albedo_land\n",
    "            else:\n",
    "                albedo[j] = albedo_ice\n",
    "\n",
    "        temp_avg = sum(lats_frac * temp)\n",
    "        temp = (solar_mult * insolation * (1 - albedo) + F * temp_avg - A) / (B + F)\n",
    "\n",
    "    if step_num >= max_steps:\n",
    "        raise Exception('Too many iterations - Try different parameters')\n",
    "    \n",
    "    return temp_avg"
   ]
  },
  {
   "cell_type": "code",
   "execution_count": 42,
   "metadata": {},
   "outputs": [
    {
     "ename": "UnboundLocalError",
     "evalue": "local variable 'solar_constant' referenced before assignment",
     "output_type": "error",
     "traceback": [
      "\u001b[1;31m---------------------------------------------------------------------------\u001b[0m",
      "\u001b[1;31mUnboundLocalError\u001b[0m                         Traceback (most recent call last)",
      "\u001b[1;32mc:\\Users\\anisw\\atsc409project\\1D Model.ipynb Cell 11'\u001b[0m in \u001b[0;36m<module>\u001b[1;34m\u001b[0m\n\u001b[0;32m      <a href='vscode-notebook-cell:/c%3A/Users/anisw/atsc409project/1D%20Model.ipynb#ch0000010?line=0'>1</a>\u001b[0m \u001b[39m# Adapted from one_dim_ebm.m\u001b[39;00m\n\u001b[0;32m      <a href='vscode-notebook-cell:/c%3A/Users/anisw/atsc409project/1D%20Model.ipynb#ch0000010?line=1'>2</a>\u001b[0m geometry_setup()\n\u001b[1;32m----> <a href='vscode-notebook-cell:/c%3A/Users/anisw/atsc409project/1D%20Model.ipynb#ch0000010?line=2'>3</a>\u001b[0m insolation_setup()\n\u001b[0;32m      <a href='vscode-notebook-cell:/c%3A/Users/anisw/atsc409project/1D%20Model.ipynb#ch0000010?line=4'>5</a>\u001b[0m \u001b[39mfor\u001b[39;00m j \u001b[39min\u001b[39;00m \u001b[39mrange\u001b[39m(num_lat_zones):\n\u001b[0;32m      <a href='vscode-notebook-cell:/c%3A/Users/anisw/atsc409project/1D%20Model.ipynb#ch0000010?line=5'>6</a>\u001b[0m     temp[j] \u001b[39m=\u001b[39m \u001b[39m-\u001b[39m\u001b[39m60.0\u001b[39m\n",
      "\u001b[1;32mc:\\Users\\anisw\\atsc409project\\1D Model.ipynb Cell 8'\u001b[0m in \u001b[0;36minsolation_setup\u001b[1;34m()\u001b[0m\n\u001b[0;32m     <a href='vscode-notebook-cell:/c%3A/Users/anisw/atsc409project/1D%20Model.ipynb#ch0000013?line=12'>13</a>\u001b[0m     \u001b[39mfor\u001b[39;00m longitude \u001b[39min\u001b[39;00m \u001b[39mrange\u001b[39m(zonal_degrees):\n\u001b[0;32m     <a href='vscode-notebook-cell:/c%3A/Users/anisw/atsc409project/1D%20Model.ipynb#ch0000013?line=13'>14</a>\u001b[0m         sun_angle \u001b[39m=\u001b[39m longitude \u001b[39m-\u001b[39m noon_angle\n\u001b[1;32m---> <a href='vscode-notebook-cell:/c%3A/Users/anisw/atsc409project/1D%20Model.ipynb#ch0000013?line=14'>15</a>\u001b[0m         total_solar \u001b[39m=\u001b[39m total_solar \u001b[39m+\u001b[39m solar_constant \u001b[39m*\u001b[39m \u001b[39mmax\u001b[39m(\u001b[39m0.0\u001b[39m, np\u001b[39m.\u001b[39mcos(np\u001b[39m.\u001b[39mpi \u001b[39m/\u001b[39m \u001b[39m180\u001b[39m \u001b[39m*\u001b[39m sun_angle))\n\u001b[0;32m     <a href='vscode-notebook-cell:/c%3A/Users/anisw/atsc409project/1D%20Model.ipynb#ch0000013?line=16'>17</a>\u001b[0m solar_constant \u001b[39m=\u001b[39m total_solar \u001b[39m/\u001b[39m (hours_in_day \u001b[39m*\u001b[39m zonal_degrees)\n\u001b[0;32m     <a href='vscode-notebook-cell:/c%3A/Users/anisw/atsc409project/1D%20Model.ipynb#ch0000013?line=18'>19</a>\u001b[0m insolation \u001b[39m=\u001b[39m np\u001b[39m.\u001b[39mzeros(num_lat_zones)\n",
      "\u001b[1;31mUnboundLocalError\u001b[0m: local variable 'solar_constant' referenced before assignment"
     ]
    }
   ],
   "source": [
    "# Adapted from one_dim_ebm.m\n",
    "geometry_setup()\n",
    "insolation_setup()\n",
    "\n",
    "for j in range(num_lat_zones):\n",
    "    temp[j] = -60.0\n",
    "\n",
    "\n",
    "solar_mult = np.zeros(80)\n",
    "avg_temp = np.zeros(80)\n",
    "\n",
    "for k in range(60, 141):\n",
    "    solar_mult[k - 60] = k / 100.0\n",
    "    avg_temp[k - 60] = solveTemp(solar_mult[k - 60])\n",
    "\n",
    "plt.plot(solar_mult, avg_temp, 'b')\n",
    "plt.title('Average Temperature vs. Solar Multiplier')\n",
    "plt.xlabel('Solar Multiplier')\n",
    "plt.ylabel('Average Temperature (C)')\n",
    "plt.show()"
   ]
  }
 ],
 "metadata": {
  "interpreter": {
   "hash": "dbdd2e8d5006127634dae37b7b35b5846ce6e3a171ab4283aed3bbbf5cf50652"
  },
  "kernelspec": {
   "display_name": "Python 3.10.2 ('numeric_2022')",
   "language": "python",
   "name": "python3"
  },
  "language_info": {
   "codemirror_mode": {
    "name": "ipython",
    "version": 3
   },
   "file_extension": ".py",
   "mimetype": "text/x-python",
   "name": "python",
   "nbconvert_exporter": "python",
   "pygments_lexer": "ipython3",
   "version": "3.10.2"
  },
  "orig_nbformat": 4
 },
 "nbformat": 4,
 "nbformat_minor": 2
}
