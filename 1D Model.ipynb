{
 "cells": [
  {
   "cell_type": "markdown",
   "metadata": {},
   "source": [
    "<h1 style=\"text-align: center;\">\n",
    "    ATSC 409 Project: 1D Radiative Model\n",
    "</h1>\n",
    "<h5 style=\"text-align: center;\">\n",
    "    Anirudh Duggal, Clinton Macadam, and Hanrui Duan\n",
    "</h5>\n",
    "<!-- # ATSC 409 Project: 1D Radiative Model\n",
    "##### Anirudh Duggal, Clinton Macadam, and Hanrui Duan -->"
   ]
  },
  {
   "cell_type": "code",
   "execution_count": 2,
   "metadata": {},
   "outputs": [],
   "source": [
    "import numpy as np\n",
    "import matplotlib.pyplot as plt"
   ]
  },
  {
   "cell_type": "code",
   "execution_count": 9,
   "metadata": {},
   "outputs": [],
   "source": [
    "# Runge-Kutta 4th order\n",
    "def rk4(f, x0, y0, x1, n):\n",
    "    h = (x1 - x0) / n\n",
    "    x = np.arange(x0, x1, h)\n",
    "    y = np.zeros((n + 1))\n",
    "    y[0] = y0\n",
    "    for i in range(n):\n",
    "        k1 = h * f(x[i], y[i])\n",
    "        k2 = h * f(x[i] + h / 2, y[i] + k1 / 2)\n",
    "        k3 = h * f(x[i] + h / 2, y[i] + k2 / 2)\n",
    "        k4 = h * f(x[i] + h, y[i] + k3)\n",
    "        y[i + 1] = y[i] + (k1 + 2 * k2 + 2 * k3 + k4) / 6\n",
    "    return x, y"
   ]
  },
  {
   "cell_type": "markdown",
   "metadata": {},
   "source": [
    "<h4 style=\"text-align: center;\">\n",
    "    Constants\n",
    "</h4>"
   ]
  },
  {
   "cell_type": "code",
   "execution_count": 17,
   "metadata": {},
   "outputs": [
    {
     "data": {
      "text/plain": [
       "2.08"
      ]
     },
     "execution_count": 17,
     "metadata": {},
     "output_type": "execute_result"
    }
   ],
   "source": [
    "Ce = 2.08e-5  # J/m^2 * C\n",
    "F = 3.80      # W/(m^2 * C) \n",
    "A = 204       # W m^-2 \n",
    "B = 2.17      # W m^-2 C^-1"
   ]
  },
  {
   "cell_type": "code",
   "execution_count": null,
   "metadata": {},
   "outputs": [],
   "source": []
  }
 ],
 "metadata": {
  "interpreter": {
   "hash": "dbdd2e8d5006127634dae37b7b35b5846ce6e3a171ab4283aed3bbbf5cf50652"
  },
  "kernelspec": {
   "display_name": "Python 3.10.2 ('numeric_2022')",
   "language": "python",
   "name": "python3"
  },
  "language_info": {
   "codemirror_mode": {
    "name": "ipython",
    "version": 3
   },
   "file_extension": ".py",
   "mimetype": "text/x-python",
   "name": "python",
   "nbconvert_exporter": "python",
   "pygments_lexer": "ipython3",
   "version": "3.10.2"
  },
  "orig_nbformat": 4
 },
 "nbformat": 4,
 "nbformat_minor": 2
}
